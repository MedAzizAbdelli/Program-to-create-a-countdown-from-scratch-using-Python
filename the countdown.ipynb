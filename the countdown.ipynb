{
 "cells": [
  {
   "cell_type": "code",
   "execution_count": 1,
   "id": "bfd9fab7",
   "metadata": {},
   "outputs": [
    {
     "name": "stdout",
     "output_type": "stream",
     "text": [
      "Enter the time in seconds: 10\n",
      "The bomb exploded!!\n"
     ]
    }
   ],
   "source": [
    "# import the time module\n",
    "import time\n",
    "  \n",
    "# define the countdown func.\n",
    "def countdown(t):\n",
    "    \n",
    "    while t:\n",
    "        mins, secs = divmod(t, 60)\n",
    "        timer = '{:02d}:{:02d}'.format(mins, secs)\n",
    "        print(timer, end=\"\\r\")\n",
    "        time.sleep(1)\n",
    "        t -= 1\n",
    "      \n",
    "    print('The bomb exploded!!')\n",
    "  \n",
    "  \n",
    "# input time in seconds\n",
    "t = input(\"Enter the time in seconds: \")\n",
    "  \n",
    "# function call\n",
    "countdown(int(t))"
   ]
  },
  {
   "cell_type": "code",
   "execution_count": null,
   "id": "a4ced73a",
   "metadata": {},
   "outputs": [],
   "source": []
  },
  {
   "cell_type": "code",
   "execution_count": null,
   "id": "14dffee9",
   "metadata": {},
   "outputs": [],
   "source": []
  }
 ],
 "metadata": {
  "kernelspec": {
   "display_name": "Python 3 (ipykernel)",
   "language": "python",
   "name": "python3"
  },
  "language_info": {
   "codemirror_mode": {
    "name": "ipython",
    "version": 3
   },
   "file_extension": ".py",
   "mimetype": "text/x-python",
   "name": "python",
   "nbconvert_exporter": "python",
   "pygments_lexer": "ipython3",
   "version": "3.9.12"
  }
 },
 "nbformat": 4,
 "nbformat_minor": 5
}
